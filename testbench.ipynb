{
 "cells": [
  {
   "cell_type": "code",
   "execution_count": 1,
   "metadata": {},
   "outputs": [],
   "source": [
    "# setup imports\n",
    "import sys\n",
    "from pathlib import Path\n",
    "sys.path.append('src')\n",
    "\n",
    "from pdf_to_lc_doc_api import PDFConverter\n",
    "\n",
    "# test pdf path\n",
    "test_pdf = Path('tests/data/test.pdf')"
   ]
  },
  {
   "cell_type": "code",
   "execution_count": 2,
   "metadata": {},
   "outputs": [
    {
     "name": "stdout",
     "output_type": "stream",
     "text": [
      "Creating chat completion...\n",
      "Error in _generate_final_summary: Error code: 500 - {'error': {'message': 'Internal server error', 'type': 'auth_subrequest_error', 'param': None, 'code': 'internal_error'}}\n",
      "Metadata:\n",
      "title: test\n",
      "document_id: d25eb77523960edee7987189685082bcb1b8575f2860a71a70e41bb3dbcc9747\n",
      "document_summary: \n",
      "keywords: []\n",
      "Original Content Preview:\n",
      "========================================\n",
      "\n",
      "\n",
      "\n",
      "\n",
      "\n",
      "\n",
      "Rendered Content:\n",
      "========================================\n"
     ]
    },
    {
     "data": {
      "text/markdown": [
       "\n",
       "\n",
       "\n",
       "\n"
      ],
      "text/plain": [
       "<IPython.core.display.Markdown object>"
      ]
     },
     "metadata": {},
     "output_type": "display_data"
    }
   ],
   "source": [
    "from IPython.display import Markdown, display\n",
    "\n",
    "\n",
    "# basic conversion test\n",
    "doc = PDFConverter.convert(str(test_pdf))\n",
    "\n",
    "# check metadata\n",
    "print(\"Metadata:\")\n",
    "for k, v in doc.metadata.items():\n",
    "    print(f\"{k}: {v}\")\n",
    "\n",
    "# Display as rendered markdown\n",
    "print(\"Original Content Preview:\")\n",
    "print(\"=\" * 40)\n",
    "print(doc.page_content[:1000])\n",
    "\n",
    "print(\"\\nRendered Content:\")\n",
    "print(\"=\" * 40)\n",
    "display(Markdown(doc.page_content[:1000]))"
   ]
  },
  {
   "cell_type": "code",
   "execution_count": null,
   "metadata": {},
   "outputs": [],
   "source": [
    "# test with custom metadata\n",
    "custom_meta = {\n",
    "    \"category\": \"test\",\n",
    "    \"tags\": [\"example\", \"demo\"],\n",
    "    \"priority\": 1\n",
    "}\n",
    "\n",
    "doc_with_meta = PDFConverter.convert(str(test_pdf), metadata=custom_meta)\n",
    "print(\"Metadata with custom fields:\")\n",
    "for k, v in doc_with_meta.metadata.items():\n",
    "    print(f\"{k}: {v}\")"
   ]
  },
  {
   "cell_type": "code",
   "execution_count": null,
   "metadata": {},
   "outputs": [],
   "source": [
    "# verify document_id consistency\n",
    "doc1 = PDFConverter.convert(str(test_pdf))\n",
    "doc2 = PDFConverter.convert(str(test_pdf))\n",
    "\n",
    "print(f\"doc1 id: {doc1.metadata['document_id']}\")\n",
    "print(f\"doc2 id: {doc2.metadata['document_id']}\")\n",
    "print(f\"\\nIDs match: {doc1.metadata['document_id'] == doc2.metadata['document_id']}\")"
   ]
  },
  {
   "cell_type": "code",
   "execution_count": null,
   "metadata": {},
   "outputs": [],
   "source": []
  }
 ],
 "metadata": {
  "kernelspec": {
   "display_name": "pdf-to-lc-doc-api-mzKu9NzD-py3.11",
   "language": "python",
   "name": "python3"
  },
  "language_info": {
   "codemirror_mode": {
    "name": "ipython",
    "version": 3
   },
   "file_extension": ".py",
   "mimetype": "text/x-python",
   "name": "python",
   "nbconvert_exporter": "python",
   "pygments_lexer": "ipython3",
   "version": "3.11.4"
  }
 },
 "nbformat": 4,
 "nbformat_minor": 2
}
