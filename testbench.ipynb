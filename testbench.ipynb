{
 "cells": [
  {
   "cell_type": "code",
   "execution_count": 1,
   "metadata": {},
   "outputs": [
    {
     "name": "stdout",
     "output_type": "stream",
     "text": [
      "\n",
      "Testing PDFConverter class...\n",
      "========================================\n",
      "\n",
      "Testing basic PDF conversion...\n",
      "Processing 3 pages...\n",
      "Processing page 1/3\n",
      "Processing page 2/3\n",
      "Processing page 3/3\n",
      "\n",
      "Verifying document structure:\n",
      "- Document type: <class 'langchain_core.documents.base.Document'>\n",
      "- Has content: True\n",
      "- Has metadata: True\n",
      "\n",
      "PDF conversion successful!\n"
     ]
    }
   ],
   "source": [
    "from pdf_to_lc_doc_api.converter import PDFConverter\n",
    "from pathlib import Path\n",
    "# iimport for rendering markdown\n",
    "from IPython.display import Markdown\n",
    "\n",
    "# Test PDFConverter class functionality\n",
    "\n",
    "print(\"\\nTesting PDFConverter class...\")\n",
    "print(\"=\" * 40)\n",
    "\n",
    "# get test pdf path\n",
    "test_pdf = Path(\n",
    "    \"/Users/alexhagemeister/dev/RAG Projects/pdf_to_lc_doc_api/tests/data/test.pdf\"\n",
    ")\n",
    "\n",
    "# test basic conversion\n",
    "print(\"\\nTesting basic PDF conversion...\")\n",
    "doc = PDFConverter.convert(str(test_pdf))\n",
    "\n",
    "# verify document structure\n",
    "print(\"\\nVerifying document structure:\")\n",
    "print(f\"- Document type: {type(doc)}\")\n",
    "print(f\"- Has content: {len(doc.page_content) > 0}\")\n",
    "print(f\"- Has metadata: {bool(doc.metadata)}\")\n",
    "\n",
    "# print success message\n",
    "print(\"\\nPDF conversion successful!\")\n",
    "\n",
    "\n"
   ]
  },
  {
   "cell_type": "code",
   "execution_count": 2,
   "metadata": {},
   "outputs": [
    {
     "name": "stdout",
     "output_type": "stream",
     "text": [
      "\n",
      "Document metadata:\n",
      "- title: test\n",
      "- document_id: d25eb77523960edee7987189685082bcb1b8575f2860a71a70e41bb3dbcc9747\n",
      "========================================\n",
      "\n",
      "Converted plain text:\n",
      "\n",
      "```markdown\n",
      "# CS 70\n",
      "## Discrete Mathematics and Probability Theory\n",
      "### Spring 2024\n",
      "#### Course Notes\n",
      "### Note 0\n",
      "\n",
      "## Review of Sets and Mathematical Notation\n",
      "\n",
      "A set is a well-defined collection of objects. These objects are called **elements** or **members** of the set, and they can be anything, including numbers, letters, people, cities, and even other sets. By convention, sets are usually denoted by capital letters and can be described or defined by listing its elements and surrounding the list by curly braces. For example, we can describe the set \\( A \\) to be the set whose members are the first five prime numbers, or we can explicitly write: \n",
      "\\[ A = \\{2, 3, 5, 7, 11\\} \\]\n",
      "If \\( x \\) is an element of \\( A \\), then we write \\( x \\in A \\). Similarly, if \\( y \\) is not an element of \\( A \\), then we write \\( y \\notin A \\). Two sets \\( A \\) and \\( B \\) are said to be **equal**, written as \\( A = B \\), if they have the same elements. The order and repetition of elements do not matter, so \\\n",
      "\n",
      "Converted markdown:\n",
      "\n"
     ]
    },
    {
     "data": {
      "text/markdown": [
       "```markdown\n",
       "# CS 70\n",
       "## Discrete Mathematics and Probability Theory\n",
       "### Spring 2024\n",
       "#### Course Notes\n",
       "### Note 0\n",
       "\n",
       "## Review of Sets and Mathematical Notation\n",
       "\n",
       "A set is a well-defined collection of objects. These objects are called **elements** or **members** of the set, and they can be anything, including numbers, letters, people, cities, and even other sets. By convention, sets are usually denoted by capital letters and can be described or defined by listing its elements and surrounding the list by curly braces. For example, we can describe the set \\( A \\) to be the set whose members are the first five prime numbers, or we can explicitly write: \n",
       "\\[ A = \\{2, 3, 5, 7, 11\\} \\]\n",
       "If \\( x \\) is an element of \\( A \\), then we write \\( x \\in A \\). Similarly, if \\( y \\) is not an element of \\( A \\), then we write \\( y \\notin A \\). Two sets \\( A \\) and \\( B \\) are said to be **equal**, written as \\( A = B \\), if they have the same elements. The order and repetition of elements do not matter, so \\"
      ],
      "text/plain": [
       "<IPython.core.display.Markdown object>"
      ]
     },
     "execution_count": 2,
     "metadata": {},
     "output_type": "execute_result"
    }
   ],
   "source": [
    "# print metadata\n",
    "print(\"\\nDocument metadata:\")\n",
    "for key, value in doc.metadata.items():\n",
    "    print(f\"- {key}: {value}\")\n",
    "\n",
    "print(\"=\" * 40)\n",
    "\n",
    "# Display as plain text\n",
    "print(\"\\nConverted plain text:\\n\")\n",
    "print(doc.page_content[:1000])\n",
    "\n",
    "#display the markdown\n",
    "print(\"\\nConverted markdown:\\n\")\n",
    "Markdown(doc.page_content[:1000])"
   ]
  },
  {
   "cell_type": "code",
   "execution_count": null,
   "metadata": {},
   "outputs": [],
   "source": []
  }
 ],
 "metadata": {
  "kernelspec": {
   "display_name": "pdf-to-lc-doc-api-mzKu9NzD-py3.11",
   "language": "python",
   "name": "python3"
  },
  "language_info": {
   "codemirror_mode": {
    "name": "ipython",
    "version": 3
   },
   "file_extension": ".py",
   "mimetype": "text/x-python",
   "name": "python",
   "nbconvert_exporter": "python",
   "pygments_lexer": "ipython3",
   "version": "3.11.4"
  }
 },
 "nbformat": 4,
 "nbformat_minor": 2
}
