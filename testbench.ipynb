{
 "cells": [
  {
   "cell_type": "code",
   "execution_count": 1,
   "metadata": {},
   "outputs": [
    {
     "name": "stdout",
     "output_type": "stream",
     "text": [
      "\n",
      "Testing PDFConverter class...\n",
      "========================================\n",
      "\n",
      "Testing basic PDF conversion...\n",
      "Processing 3 pages...\n",
      "Processing page 1/3\n",
      "Processing page 2/3\n",
      "Processing page 3/3\n",
      "\n",
      "Verifying document structure:\n",
      "- Document type: <class 'langchain_core.documents.base.Document'>\n",
      "- Has content: True\n",
      "- Has metadata: True\n",
      "\n",
      "PDF conversion successful!\n"
     ]
    }
   ],
   "source": [
    "from pdf_to_lc_doc_api.converter import PDFConverter\n",
    "from pathlib import Path\n",
    "# iimport for rendering markdown\n",
    "from IPython.display import Markdown\n",
    "\n",
    "# Test PDFConverter class functionality\n",
    "\n",
    "print(\"\\nTesting PDFConverter class...\")\n",
    "print(\"=\" * 40)\n",
    "\n",
    "# get test pdf path\n",
    "test_pdf = Path(\n",
    "    \"/Users/alexhagemeister/dev/RAG Projects/pdf_to_lc_doc_api/tests/data/test.pdf\"\n",
    ")\n",
    "\n",
    "# test basic conversion\n",
    "print(\"\\nTesting basic PDF conversion...\")\n",
    "doc = PDFConverter.convert(str(test_pdf))\n",
    "\n",
    "# verify document structure\n",
    "print(\"\\nVerifying document structure:\")\n",
    "print(f\"- Document type: {type(doc)}\")\n",
    "print(f\"- Has content: {len(doc.page_content) > 0}\")\n",
    "print(f\"- Has metadata: {bool(doc.metadata)}\")\n",
    "\n",
    "# print success message\n",
    "print(\"\\nPDF conversion successful!\")\n",
    "\n",
    "\n"
   ]
  },
  {
   "cell_type": "code",
   "execution_count": null,
   "metadata": {},
   "outputs": [],
   "source": [
    "# print metadata\n",
    "print(\"\\nDocument metadata:\")\n",
    "for key, value in doc.metadata.items():\n",
    "    print(f\"- {key}: {value}\")\n",
    "\n",
    "print(\"=\" * 40)\n",
    "\n",
    "# Display as plain text\n",
    "print(\"\\nConverted plain text:\\n\")\n",
    "print(doc.page_content[:1000])\n",
    "\n",
    "#display the markdown\n",
    "print(\"\\nConverted markdown:\\n\")\n",
    "Markdown(doc.page_content[:1000])"
   ]
  },
  {
   "cell_type": "code",
   "execution_count": null,
   "metadata": {},
   "outputs": [],
   "source": []
  }
 ],
 "metadata": {
  "kernelspec": {
   "display_name": "pdf-to-lc-doc-api-mzKu9NzD-py3.11",
   "language": "python",
   "name": "python3"
  },
  "language_info": {
   "codemirror_mode": {
    "name": "ipython",
    "version": 3
   },
   "file_extension": ".py",
   "mimetype": "text/x-python",
   "name": "python",
   "nbconvert_exporter": "python",
   "pygments_lexer": "ipython3",
   "version": "3.11.4"
  }
 },
 "nbformat": 4,
 "nbformat_minor": 2
}
